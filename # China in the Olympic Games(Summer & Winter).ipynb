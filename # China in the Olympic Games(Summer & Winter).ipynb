{
 "cells": [
  {
   "cell_type": "markdown",
   "id": "66a2d241-7f8b-42b0-aad4-25180a37edcf",
   "metadata": {},
   "source": [
    "# China in the Olympic Games(Summer & Winter)"
   ]
  },
  {
   "cell_type": "code",
   "execution_count": 78,
   "id": "51c1d18f-ff34-4921-9756-f1a15fb63b9c",
   "metadata": {},
   "outputs": [],
   "source": [
    "import pandas as pd\n",
    "import numpy as np"
   ]
  },
  {
   "cell_type": "markdown",
   "id": "51d9abb9-aaca-4c43-83b9-d553c4db2b9a",
   "metadata": {},
   "source": [
    "#### data from: https://www.kaggle.com/heesoo37/120-years-of-olympic-history-athletes-and-results/version/2?select=athlete_events.csv\n",
    "#### I don't know why I can't just pd.read_csv the link so I had to download it and read it from local."
   ]
  },
  {
   "cell_type": "code",
   "execution_count": 20,
   "id": "c3711e32-ce32-4282-b2d1-ef6c0dbf7443",
   "metadata": {},
   "outputs": [],
   "source": [
    "df = pd.read_csv('../demos/athlete_events.csv')"
   ]
  },
  {
   "cell_type": "code",
   "execution_count": 21,
   "id": "060f4ca2-2849-40b0-8f2a-c99ace4191cb",
   "metadata": {},
   "outputs": [
    {
     "data": {
      "text/html": [
       "<div>\n",
       "<style scoped>\n",
       "    .dataframe tbody tr th:only-of-type {\n",
       "        vertical-align: middle;\n",
       "    }\n",
       "\n",
       "    .dataframe tbody tr th {\n",
       "        vertical-align: top;\n",
       "    }\n",
       "\n",
       "    .dataframe thead th {\n",
       "        text-align: right;\n",
       "    }\n",
       "</style>\n",
       "<table border=\"1\" class=\"dataframe\">\n",
       "  <thead>\n",
       "    <tr style=\"text-align: right;\">\n",
       "      <th></th>\n",
       "      <th>ID</th>\n",
       "      <th>Name</th>\n",
       "      <th>Sex</th>\n",
       "      <th>Age</th>\n",
       "      <th>Height</th>\n",
       "      <th>Weight</th>\n",
       "      <th>Team</th>\n",
       "      <th>NOC</th>\n",
       "      <th>Games</th>\n",
       "      <th>Year</th>\n",
       "      <th>Season</th>\n",
       "      <th>City</th>\n",
       "      <th>Sport</th>\n",
       "      <th>Event</th>\n",
       "      <th>Medal</th>\n",
       "    </tr>\n",
       "  </thead>\n",
       "  <tbody>\n",
       "    <tr>\n",
       "      <th>0</th>\n",
       "      <td>1</td>\n",
       "      <td>A Dijiang</td>\n",
       "      <td>M</td>\n",
       "      <td>24.0</td>\n",
       "      <td>180.0</td>\n",
       "      <td>80.0</td>\n",
       "      <td>China</td>\n",
       "      <td>CHN</td>\n",
       "      <td>1992 Summer</td>\n",
       "      <td>1992</td>\n",
       "      <td>Summer</td>\n",
       "      <td>Barcelona</td>\n",
       "      <td>Basketball</td>\n",
       "      <td>Basketball Men's Basketball</td>\n",
       "      <td>NaN</td>\n",
       "    </tr>\n",
       "    <tr>\n",
       "      <th>1</th>\n",
       "      <td>2</td>\n",
       "      <td>A Lamusi</td>\n",
       "      <td>M</td>\n",
       "      <td>23.0</td>\n",
       "      <td>170.0</td>\n",
       "      <td>60.0</td>\n",
       "      <td>China</td>\n",
       "      <td>CHN</td>\n",
       "      <td>2012 Summer</td>\n",
       "      <td>2012</td>\n",
       "      <td>Summer</td>\n",
       "      <td>London</td>\n",
       "      <td>Judo</td>\n",
       "      <td>Judo Men's Extra-Lightweight</td>\n",
       "      <td>NaN</td>\n",
       "    </tr>\n",
       "    <tr>\n",
       "      <th>2</th>\n",
       "      <td>3</td>\n",
       "      <td>Gunnar Nielsen Aaby</td>\n",
       "      <td>M</td>\n",
       "      <td>24.0</td>\n",
       "      <td>NaN</td>\n",
       "      <td>NaN</td>\n",
       "      <td>Denmark</td>\n",
       "      <td>DEN</td>\n",
       "      <td>1920 Summer</td>\n",
       "      <td>1920</td>\n",
       "      <td>Summer</td>\n",
       "      <td>Antwerpen</td>\n",
       "      <td>Football</td>\n",
       "      <td>Football Men's Football</td>\n",
       "      <td>NaN</td>\n",
       "    </tr>\n",
       "    <tr>\n",
       "      <th>3</th>\n",
       "      <td>4</td>\n",
       "      <td>Edgar Lindenau Aabye</td>\n",
       "      <td>M</td>\n",
       "      <td>34.0</td>\n",
       "      <td>NaN</td>\n",
       "      <td>NaN</td>\n",
       "      <td>Denmark/Sweden</td>\n",
       "      <td>DEN</td>\n",
       "      <td>1900 Summer</td>\n",
       "      <td>1900</td>\n",
       "      <td>Summer</td>\n",
       "      <td>Paris</td>\n",
       "      <td>Tug-Of-War</td>\n",
       "      <td>Tug-Of-War Men's Tug-Of-War</td>\n",
       "      <td>Gold</td>\n",
       "    </tr>\n",
       "    <tr>\n",
       "      <th>4</th>\n",
       "      <td>5</td>\n",
       "      <td>Christine Jacoba Aaftink</td>\n",
       "      <td>F</td>\n",
       "      <td>21.0</td>\n",
       "      <td>185.0</td>\n",
       "      <td>82.0</td>\n",
       "      <td>Netherlands</td>\n",
       "      <td>NED</td>\n",
       "      <td>1988 Winter</td>\n",
       "      <td>1988</td>\n",
       "      <td>Winter</td>\n",
       "      <td>Calgary</td>\n",
       "      <td>Speed Skating</td>\n",
       "      <td>Speed Skating Women's 500 metres</td>\n",
       "      <td>NaN</td>\n",
       "    </tr>\n",
       "    <tr>\n",
       "      <th>...</th>\n",
       "      <td>...</td>\n",
       "      <td>...</td>\n",
       "      <td>...</td>\n",
       "      <td>...</td>\n",
       "      <td>...</td>\n",
       "      <td>...</td>\n",
       "      <td>...</td>\n",
       "      <td>...</td>\n",
       "      <td>...</td>\n",
       "      <td>...</td>\n",
       "      <td>...</td>\n",
       "      <td>...</td>\n",
       "      <td>...</td>\n",
       "      <td>...</td>\n",
       "      <td>...</td>\n",
       "    </tr>\n",
       "    <tr>\n",
       "      <th>271111</th>\n",
       "      <td>135569</td>\n",
       "      <td>Andrzej ya</td>\n",
       "      <td>M</td>\n",
       "      <td>29.0</td>\n",
       "      <td>179.0</td>\n",
       "      <td>89.0</td>\n",
       "      <td>Poland-1</td>\n",
       "      <td>POL</td>\n",
       "      <td>1976 Winter</td>\n",
       "      <td>1976</td>\n",
       "      <td>Winter</td>\n",
       "      <td>Innsbruck</td>\n",
       "      <td>Luge</td>\n",
       "      <td>Luge Mixed (Men)'s Doubles</td>\n",
       "      <td>NaN</td>\n",
       "    </tr>\n",
       "    <tr>\n",
       "      <th>271112</th>\n",
       "      <td>135570</td>\n",
       "      <td>Piotr ya</td>\n",
       "      <td>M</td>\n",
       "      <td>27.0</td>\n",
       "      <td>176.0</td>\n",
       "      <td>59.0</td>\n",
       "      <td>Poland</td>\n",
       "      <td>POL</td>\n",
       "      <td>2014 Winter</td>\n",
       "      <td>2014</td>\n",
       "      <td>Winter</td>\n",
       "      <td>Sochi</td>\n",
       "      <td>Ski Jumping</td>\n",
       "      <td>Ski Jumping Men's Large Hill, Individual</td>\n",
       "      <td>NaN</td>\n",
       "    </tr>\n",
       "    <tr>\n",
       "      <th>271113</th>\n",
       "      <td>135570</td>\n",
       "      <td>Piotr ya</td>\n",
       "      <td>M</td>\n",
       "      <td>27.0</td>\n",
       "      <td>176.0</td>\n",
       "      <td>59.0</td>\n",
       "      <td>Poland</td>\n",
       "      <td>POL</td>\n",
       "      <td>2014 Winter</td>\n",
       "      <td>2014</td>\n",
       "      <td>Winter</td>\n",
       "      <td>Sochi</td>\n",
       "      <td>Ski Jumping</td>\n",
       "      <td>Ski Jumping Men's Large Hill, Team</td>\n",
       "      <td>NaN</td>\n",
       "    </tr>\n",
       "    <tr>\n",
       "      <th>271114</th>\n",
       "      <td>135571</td>\n",
       "      <td>Tomasz Ireneusz ya</td>\n",
       "      <td>M</td>\n",
       "      <td>30.0</td>\n",
       "      <td>185.0</td>\n",
       "      <td>96.0</td>\n",
       "      <td>Poland</td>\n",
       "      <td>POL</td>\n",
       "      <td>1998 Winter</td>\n",
       "      <td>1998</td>\n",
       "      <td>Winter</td>\n",
       "      <td>Nagano</td>\n",
       "      <td>Bobsleigh</td>\n",
       "      <td>Bobsleigh Men's Four</td>\n",
       "      <td>NaN</td>\n",
       "    </tr>\n",
       "    <tr>\n",
       "      <th>271115</th>\n",
       "      <td>135571</td>\n",
       "      <td>Tomasz Ireneusz ya</td>\n",
       "      <td>M</td>\n",
       "      <td>34.0</td>\n",
       "      <td>185.0</td>\n",
       "      <td>96.0</td>\n",
       "      <td>Poland</td>\n",
       "      <td>POL</td>\n",
       "      <td>2002 Winter</td>\n",
       "      <td>2002</td>\n",
       "      <td>Winter</td>\n",
       "      <td>Salt Lake City</td>\n",
       "      <td>Bobsleigh</td>\n",
       "      <td>Bobsleigh Men's Four</td>\n",
       "      <td>NaN</td>\n",
       "    </tr>\n",
       "  </tbody>\n",
       "</table>\n",
       "<p>271116 rows × 15 columns</p>\n",
       "</div>"
      ],
      "text/plain": [
       "            ID                      Name Sex   Age  Height  Weight  \\\n",
       "0            1                 A Dijiang   M  24.0   180.0    80.0   \n",
       "1            2                  A Lamusi   M  23.0   170.0    60.0   \n",
       "2            3       Gunnar Nielsen Aaby   M  24.0     NaN     NaN   \n",
       "3            4      Edgar Lindenau Aabye   M  34.0     NaN     NaN   \n",
       "4            5  Christine Jacoba Aaftink   F  21.0   185.0    82.0   \n",
       "...        ...                       ...  ..   ...     ...     ...   \n",
       "271111  135569                Andrzej ya   M  29.0   179.0    89.0   \n",
       "271112  135570                  Piotr ya   M  27.0   176.0    59.0   \n",
       "271113  135570                  Piotr ya   M  27.0   176.0    59.0   \n",
       "271114  135571        Tomasz Ireneusz ya   M  30.0   185.0    96.0   \n",
       "271115  135571        Tomasz Ireneusz ya   M  34.0   185.0    96.0   \n",
       "\n",
       "                  Team  NOC        Games  Year  Season            City  \\\n",
       "0                China  CHN  1992 Summer  1992  Summer       Barcelona   \n",
       "1                China  CHN  2012 Summer  2012  Summer          London   \n",
       "2              Denmark  DEN  1920 Summer  1920  Summer       Antwerpen   \n",
       "3       Denmark/Sweden  DEN  1900 Summer  1900  Summer           Paris   \n",
       "4          Netherlands  NED  1988 Winter  1988  Winter         Calgary   \n",
       "...                ...  ...          ...   ...     ...             ...   \n",
       "271111        Poland-1  POL  1976 Winter  1976  Winter       Innsbruck   \n",
       "271112          Poland  POL  2014 Winter  2014  Winter           Sochi   \n",
       "271113          Poland  POL  2014 Winter  2014  Winter           Sochi   \n",
       "271114          Poland  POL  1998 Winter  1998  Winter          Nagano   \n",
       "271115          Poland  POL  2002 Winter  2002  Winter  Salt Lake City   \n",
       "\n",
       "                Sport                                     Event Medal  \n",
       "0          Basketball               Basketball Men's Basketball   NaN  \n",
       "1                Judo              Judo Men's Extra-Lightweight   NaN  \n",
       "2            Football                   Football Men's Football   NaN  \n",
       "3          Tug-Of-War               Tug-Of-War Men's Tug-Of-War  Gold  \n",
       "4       Speed Skating          Speed Skating Women's 500 metres   NaN  \n",
       "...               ...                                       ...   ...  \n",
       "271111           Luge                Luge Mixed (Men)'s Doubles   NaN  \n",
       "271112    Ski Jumping  Ski Jumping Men's Large Hill, Individual   NaN  \n",
       "271113    Ski Jumping        Ski Jumping Men's Large Hill, Team   NaN  \n",
       "271114      Bobsleigh                      Bobsleigh Men's Four   NaN  \n",
       "271115      Bobsleigh                      Bobsleigh Men's Four   NaN  \n",
       "\n",
       "[271116 rows x 15 columns]"
      ]
     },
     "execution_count": 21,
     "metadata": {},
     "output_type": "execute_result"
    }
   ],
   "source": [
    "df"
   ]
  },
  {
   "cell_type": "code",
   "execution_count": 22,
   "id": "31949906-dc10-40e2-84f6-a58d23391603",
   "metadata": {},
   "outputs": [
    {
     "name": "stdout",
     "output_type": "stream",
     "text": [
      "<class 'pandas.core.frame.DataFrame'>\n",
      "RangeIndex: 271116 entries, 0 to 271115\n",
      "Data columns (total 15 columns):\n",
      " #   Column  Non-Null Count   Dtype  \n",
      "---  ------  --------------   -----  \n",
      " 0   ID      271116 non-null  int64  \n",
      " 1   Name    271116 non-null  object \n",
      " 2   Sex     271116 non-null  object \n",
      " 3   Age     261642 non-null  float64\n",
      " 4   Height  210945 non-null  float64\n",
      " 5   Weight  208241 non-null  float64\n",
      " 6   Team    271116 non-null  object \n",
      " 7   NOC     271116 non-null  object \n",
      " 8   Games   271116 non-null  object \n",
      " 9   Year    271116 non-null  int64  \n",
      " 10  Season  271116 non-null  object \n",
      " 11  City    271116 non-null  object \n",
      " 12  Sport   271116 non-null  object \n",
      " 13  Event   271116 non-null  object \n",
      " 14  Medal   39783 non-null   object \n",
      "dtypes: float64(3), int64(2), object(10)\n",
      "memory usage: 31.0+ MB\n"
     ]
    }
   ],
   "source": [
    "df.info()"
   ]
  },
  {
   "cell_type": "markdown",
   "id": "dbccd3ba-5ef7-4308-8d94-ddfd5653414a",
   "metadata": {},
   "source": [
    "## All male and female medal counts from Team China"
   ]
  },
  {
   "cell_type": "code",
   "execution_count": 31,
   "id": "e6fa20e8-edb3-47d2-88df-6a7a27ca6f89",
   "metadata": {},
   "outputs": [],
   "source": [
    "mfmc = df[(df['NOC'] == 'CHN')].groupby([\"Sex\"])[\"Medal\"].count()"
   ]
  },
  {
   "cell_type": "code",
   "execution_count": 32,
   "id": "bbbe24f4-f0bd-42d9-bb97-a8eadd82c780",
   "metadata": {},
   "outputs": [
    {
     "data": {
      "text/plain": [
       "Sex\n",
       "F    654\n",
       "M    335\n",
       "Name: Medal, dtype: int64"
      ]
     },
     "execution_count": 32,
     "metadata": {},
     "output_type": "execute_result"
    }
   ],
   "source": [
    "mfmc"
   ]
  },
  {
   "cell_type": "code",
   "execution_count": 101,
   "id": "57a16d29-3106-4b4d-943c-8aa25c0f62dd",
   "metadata": {},
   "outputs": [],
   "source": [
    "ratio = np.divide(mfmc.F, mfmc.M)"
   ]
  },
  {
   "cell_type": "code",
   "execution_count": 102,
   "id": "dd340533-f518-474a-aae2-875c6c5021d5",
   "metadata": {},
   "outputs": [
    {
     "data": {
      "text/plain": [
       "1.9522388059701492"
      ]
     },
     "execution_count": 102,
     "metadata": {},
     "output_type": "execute_result"
    }
   ],
   "source": [
    "ratio"
   ]
  },
  {
   "cell_type": "code",
   "execution_count": 37,
   "id": "7c684c06-53ec-4df7-b466-4ff69c698b8b",
   "metadata": {},
   "outputs": [],
   "source": [
    "medalbygender = df[(df['NOC'] == 'CHN')].groupby([\"Medal\",\"Sex\"])[\"Sex\"].count()"
   ]
  },
  {
   "cell_type": "code",
   "execution_count": 79,
   "id": "88fc6b71-e2d7-4df1-93e5-030bdf3d6f8d",
   "metadata": {},
   "outputs": [
    {
     "data": {
      "text/plain": [
       "Medal   Sex\n",
       "Bronze  F      195\n",
       "        M       97\n",
       "Gold    F      210\n",
       "        M      140\n",
       "Silver  F      249\n",
       "        M       98\n",
       "Name: Sex, dtype: int64"
      ]
     },
     "execution_count": 79,
     "metadata": {},
     "output_type": "execute_result"
    }
   ],
   "source": [
    "medalbygender"
   ]
  },
  {
   "cell_type": "markdown",
   "id": "b4f1e111-308f-46fd-92fc-866416562df9",
   "metadata": {},
   "source": [
    "## Medal counts from Team China in differnt Summer Olympic Games"
   ]
  },
  {
   "cell_type": "code",
   "execution_count": 85,
   "id": "a4aa2ba2-5ee9-4297-ba89-5297ce4e65fb",
   "metadata": {},
   "outputs": [],
   "source": [
    "year2004 = df[(df['NOC'] == 'CHN') & (df['Year'] == 2004)].groupby([\"Medal\"])[\"Medal\"].count()"
   ]
  },
  {
   "cell_type": "code",
   "execution_count": 87,
   "id": "cf8bc06b-c17a-42e3-af29-3a7026ceac47",
   "metadata": {},
   "outputs": [
    {
     "data": {
      "text/plain": [
       "Medal\n",
       "Bronze    15\n",
       "Gold      52\n",
       "Silver    27\n",
       "Name: Medal, dtype: int64"
      ]
     },
     "execution_count": 87,
     "metadata": {},
     "output_type": "execute_result"
    }
   ],
   "source": [
    "year2004"
   ]
  },
  {
   "cell_type": "code",
   "execution_count": 89,
   "id": "fce3641c-6c02-421b-bdd6-230df270d781",
   "metadata": {},
   "outputs": [],
   "source": [
    "year2008 = df[(df['NOC'] == 'CHN') & (df['Year'] == 2008)].groupby([\"Medal\"])[\"Medal\"].count()"
   ]
  },
  {
   "cell_type": "code",
   "execution_count": 91,
   "id": "9c4f9112-27f8-4258-8dbd-6b2bd265b32d",
   "metadata": {},
   "outputs": [
    {
     "data": {
      "text/plain": [
       "Medal\n",
       "Bronze    57\n",
       "Gold      74\n",
       "Silver    53\n",
       "Name: Medal, dtype: int64"
      ]
     },
     "execution_count": 91,
     "metadata": {},
     "output_type": "execute_result"
    }
   ],
   "source": [
    "year2008"
   ]
  },
  {
   "cell_type": "code",
   "execution_count": 92,
   "id": "bd1c4c9a-a77a-4f97-a563-d68bef4bebb0",
   "metadata": {},
   "outputs": [],
   "source": [
    "year2012 = df[(df['NOC'] == 'CHN') & (df['Year'] == 2012)].groupby([\"Medal\"])[\"Medal\"].count()"
   ]
  },
  {
   "cell_type": "code",
   "execution_count": 94,
   "id": "a044356f-e93c-4b64-9eed-24b52ee77e6d",
   "metadata": {},
   "outputs": [
    {
     "data": {
      "text/plain": [
       "Medal\n",
       "Bronze    29\n",
       "Gold      56\n",
       "Silver    40\n",
       "Name: Medal, dtype: int64"
      ]
     },
     "execution_count": 94,
     "metadata": {},
     "output_type": "execute_result"
    }
   ],
   "source": [
    "year2012"
   ]
  },
  {
   "cell_type": "code",
   "execution_count": 95,
   "id": "a12385d5-bebf-4d5d-ac73-329456b082b1",
   "metadata": {},
   "outputs": [],
   "source": [
    "year2016 = df[(df['NOC'] == 'CHN') & (df['Year'] == 2016)].groupby([\"Medal\"])[\"Medal\"].count()"
   ]
  },
  {
   "cell_type": "code",
   "execution_count": 96,
   "id": "10161670-de02-4d76-a6af-e83db3b76577",
   "metadata": {},
   "outputs": [
    {
     "data": {
      "text/plain": [
       "Medal\n",
       "Bronze    37\n",
       "Gold      46\n",
       "Silver    30\n",
       "Name: Medal, dtype: int64"
      ]
     },
     "execution_count": 96,
     "metadata": {},
     "output_type": "execute_result"
    }
   ],
   "source": [
    "year2016"
   ]
  },
  {
   "cell_type": "markdown",
   "id": "9773bb31-e543-4d1c-98a1-9b84b070e274",
   "metadata": {},
   "source": [
    "### All medal counts from Team China IN SUMMER OLYMPIC GAME SPECIFICALLY"
   ]
  },
  {
   "cell_type": "code",
   "execution_count": 44,
   "id": "fd3203e7-0928-48b5-879f-f8d89dedacca",
   "metadata": {},
   "outputs": [],
   "source": [
    "medalcountssummer = df[(df['NOC'] == 'CHN') & (df['Year'] % 4 == 0)].groupby([\"Medal\"])[\"Medal\"].count()"
   ]
  },
  {
   "cell_type": "code",
   "execution_count": 45,
   "id": "79fa3424-ebc3-469c-a478-e6f7427f9cfb",
   "metadata": {},
   "outputs": [
    {
     "data": {
      "text/plain": [
       "Medal\n",
       "Bronze    258\n",
       "Gold      334\n",
       "Silver    320\n",
       "Name: Medal, dtype: int64"
      ]
     },
     "execution_count": 45,
     "metadata": {},
     "output_type": "execute_result"
    }
   ],
   "source": [
    "medalcountssummer"
   ]
  },
  {
   "cell_type": "markdown",
   "id": "ffc3f84f-04bb-4e79-9549-2809ea782938",
   "metadata": {},
   "source": [
    "### All medal counts from Team China IN SUMMER OLYMPIC GAME SPECIFICALLY by gender"
   ]
  },
  {
   "cell_type": "code",
   "execution_count": 47,
   "id": "e4e1a2af-7eb4-4b6b-965d-45d3255631f6",
   "metadata": {},
   "outputs": [],
   "source": [
    "medalcountssummerbygender = df[(df['NOC'] == 'CHN') & (df['Year'] % 4 == 0)].groupby([\"Medal\", 'Sex'])[\"Medal\"].count()"
   ]
  },
  {
   "cell_type": "code",
   "execution_count": 48,
   "id": "dacb3857-010e-4e38-8fb0-42f50dce78e2",
   "metadata": {},
   "outputs": [
    {
     "data": {
      "text/plain": [
       "Medal   Sex\n",
       "Bronze  F      179\n",
       "        M       79\n",
       "Gold    F      196\n",
       "        M      138\n",
       "Silver  F      229\n",
       "        M       91\n",
       "Name: Medal, dtype: int64"
      ]
     },
     "execution_count": 48,
     "metadata": {},
     "output_type": "execute_result"
    }
   ],
   "source": [
    "medalcountssummerbygender"
   ]
  },
  {
   "cell_type": "markdown",
   "id": "31aa1d0b-a3d1-4995-a387-8ba8f84b2c2b",
   "metadata": {},
   "source": [
    "### Which athelte in Team China has participated most?"
   ]
  },
  {
   "cell_type": "code",
   "execution_count": 99,
   "id": "ea82a755-3504-41c4-bac7-e5f5e79ceae7",
   "metadata": {},
   "outputs": [],
   "source": [
    "same = df[(df['NOC'] == 'CHN')][\"Name\"].value_counts(ascending=False).head(15)"
   ]
  },
  {
   "cell_type": "code",
   "execution_count": 100,
   "id": "1f457f23-3f9d-422a-929e-b46d67496d85",
   "metadata": {},
   "outputs": [
    {
     "data": {
      "text/plain": [
       "Yang Wei         26\n",
       "Yang Yang        20\n",
       "Li Xiaopeng      18\n",
       "Huang Xu         17\n",
       "Lou Yun          16\n",
       "Lin Li           16\n",
       "Xu Zhiqiang      16\n",
       "Li Chunyang      16\n",
       "Li Xiaoshuang    16\n",
       "Wang Yan         16\n",
       "Li Ning          16\n",
       "Li Jiajun        14\n",
       "Li Na            14\n",
       "Xing Aowei       14\n",
       "Liu Xianying     13\n",
       "Name: Name, dtype: int64"
      ]
     },
     "execution_count": 100,
     "metadata": {},
     "output_type": "execute_result"
    }
   ],
   "source": [
    "same"
   ]
  },
  {
   "cell_type": "markdown",
   "id": "a82b7e19-dc30-4feb-a579-1215714434a4",
   "metadata": {},
   "source": [
    "#### Yang Wei"
   ]
  },
  {
   "cell_type": "markdown",
   "id": "3fd06c2a-768b-4904-8a64-ec700b1596a3",
   "metadata": {},
   "source": [
    "### Graphs of total number of medals in the summer Olympic Games from Team China"
   ]
  },
  {
   "cell_type": "code",
   "execution_count": 60,
   "id": "ceca3da3-53bf-4031-a6f1-236a8fe65b3d",
   "metadata": {},
   "outputs": [],
   "source": [
    "import matplotlib.pyplot as plt"
   ]
  },
  {
   "cell_type": "code",
   "execution_count": 61,
   "id": "28c620a2-3370-4536-a394-9bc4767169e4",
   "metadata": {},
   "outputs": [],
   "source": [
    "total = df[(df['NOC'] == 'CHN') & (df['Year'] % 4 == 0)].groupby([\"Year\"])[\"Medal\"].count()"
   ]
  },
  {
   "cell_type": "code",
   "execution_count": 62,
   "id": "af7e26d4-309b-4a83-a947-e09ffa4f81a7",
   "metadata": {},
   "outputs": [
    {
     "data": {
      "text/plain": [
       "Year\n",
       "1932      0\n",
       "1936      0\n",
       "1948      0\n",
       "1952      0\n",
       "1980      0\n",
       "1984     74\n",
       "1988     52\n",
       "1992     85\n",
       "1996    106\n",
       "2000     79\n",
       "2004     94\n",
       "2008    184\n",
       "2012    125\n",
       "2016    113\n",
       "Name: Medal, dtype: int64"
      ]
     },
     "execution_count": 62,
     "metadata": {},
     "output_type": "execute_result"
    }
   ],
   "source": [
    "total"
   ]
  },
  {
   "cell_type": "code",
   "execution_count": 69,
   "id": "52d0e85d-fa24-4c22-9cfa-57716a971db4",
   "metadata": {},
   "outputs": [],
   "source": [
    "list = total.tail(20)"
   ]
  },
  {
   "cell_type": "code",
   "execution_count": 76,
   "id": "8464f750-153b-4581-875f-de00d4845558",
   "metadata": {},
   "outputs": [
    {
     "data": {
      "text/plain": [
       "<AxesSubplot:title={'center':'total number of medals in the summer Olympic Games from Team China'}, xlabel='Year', ylabel='Count'>"
      ]
     },
     "execution_count": 76,
     "metadata": {},
     "output_type": "execute_result"
    },
    {
     "data": {
      "image/png": "[encoded data removed]",
      "text/plain": [
       "<Figure size 432x288 with 1 Axes>"
      ]
     },
     "metadata": {
      "needs_background": "light"
     },
     "output_type": "display_data"
    }
   ],
   "source": [
    "plt.xlabel('Year')\n",
    "plt.ylabel('Count')\n",
    "plt.title(\"total number of medals in the summer Olympic Games from Team China\") \n",
    "list.plot(color='red', style='-o')"
   ]
  },
  {
   "cell_type": "markdown",
   "id": "fa12d93b-5c84-40b5-be5f-dd058efe625d",
   "metadata": {},
   "source": [
    "# Memo\n",
    "## I had the idea of exploring the data of China's performance on Olympic Games after I saw a seires of \"gold medal\" moments on Douyin. From 2008 Beijing Olympic Games to 2020 Tokyo Olympic Games, I can feel that Chinese athelets are doing better and better and I want to know how exactly they've grown.\n",
    "## From the chart we can see that the medal counts from Team China have grown rapidly since year 1980 and this is after the begining of China's \"journey of reform and opening-up\" by President Deng. The peak is at year 2008, where the Summer Olympic Games was held in Beijing, China.\n",
    "## I've seen and got to know many Chinese athelets from Olympic Games, but most of them are male. However, it's surpring to see that the ratio of medals from female to male is 1.95, which means that at every game, female athelets get almost double the medals than male athelets!\n",
    "## I am also moved after seeing the data that shows \"Which athelte in Team China has participated most?\". Athelets such as Yang Wei, Li Ning and so on have spent their lives fighting for the honors for the country, even when they are at the age of retiring. Much respect!"
   ]
  },
  {
   "cell_type": "code",
   "execution_count": null,
   "id": "92da4654-2886-42b5-b886-52679d599e95",
   "metadata": {},
   "outputs": [],
   "source": []
  }
 ],
 "metadata": {
  "kernelspec": {
   "display_name": "Python 3",
   "language": "python",
   "name": "python3"
  },
  "language_info": {
   "codemirror_mode": {
    "name": "ipython",
    "version": 3
   },
   "file_extension": ".py",
   "mimetype": "text/x-python",
   "name": "python",
   "nbconvert_exporter": "python",
   "pygments_lexer": "ipython3",
   "version": "3.8.8"
  }
 },
 "nbformat": 4,
 "nbformat_minor": 5
}
