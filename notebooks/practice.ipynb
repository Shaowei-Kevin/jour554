{
 "cells": [
  {
   "cell_type": "markdown",
   "id": "5bf8717d-0e02-4d6a-bd99-16a9f95e8cd5",
   "metadata": {},
   "source": [
    "# Assignment: Pandas practice"
   ]
  },
  {
   "cell_type": "code",
   "execution_count": 19,
   "id": "1672e63e-2f77-40c7-8436-0b474ae04147",
   "metadata": {},
   "outputs": [],
   "source": [
    "import pandas as pd\n",
    "import numpy as np"
   ]
  },
  {
   "cell_type": "markdown",
   "id": "e5a4a30b-65c2-4c57-97dc-859b9d227637",
   "metadata": {},
   "source": [
    "## import data"
   ]
  },
  {
   "cell_type": "markdown",
   "id": "8dbc67f2-ad1e-44f2-89fe-67de2a943cb0",
   "metadata": {},
   "source": [
    "### cars csv:\n",
    "### https://github.com/stiles/usc/blob/main/data/cars/vehicle-count.csv"
   ]
  },
  {
   "cell_type": "code",
   "execution_count": 20,
   "id": "ab84a025-0152-40fd-b3fc-3bb78f0a5bcb",
   "metadata": {},
   "outputs": [],
   "source": [
    "url = 'https://raw.githubusercontent.com/stiles/usc/main/data/cars/vehicle-count.csv'"
   ]
  },
  {
   "cell_type": "code",
   "execution_count": 21,
   "id": "337d20b4-2fff-408a-89d9-e8a4cb6dde0e",
   "metadata": {},
   "outputs": [
    {
     "name": "stderr",
     "output_type": "stream",
     "text": [
      "/opt/anaconda3/lib/python3.8/site-packages/IPython/core/interactiveshell.py:3165: DtypeWarning: Columns (2) have mixed types.Specify dtype option on import or set low_memory=False.\n",
      "  has_raised = await self.run_ast_nodes(code_ast.body, cell_name,\n"
     ]
    }
   ],
   "source": [
    "cars = pd.read_csv(url)"
   ]
  },
  {
   "cell_type": "code",
   "execution_count": 22,
   "id": "b8f8a17b-aa20-4903-8d75-b60345982d3a",
   "metadata": {},
   "outputs": [
    {
     "data": {
      "text/html": [
       "<div>\n",
       "<style scoped>\n",
       "    .dataframe tbody tr th:only-of-type {\n",
       "        vertical-align: middle;\n",
       "    }\n",
       "\n",
       "    .dataframe tbody tr th {\n",
       "        vertical-align: top;\n",
       "    }\n",
       "\n",
       "    .dataframe thead th {\n",
       "        text-align: right;\n",
       "    }\n",
       "</style>\n",
       "<table border=\"1\" class=\"dataframe\">\n",
       "  <thead>\n",
       "    <tr style=\"text-align: right;\">\n",
       "      <th></th>\n",
       "      <th>date</th>\n",
       "      <th>zip</th>\n",
       "      <th>model_year</th>\n",
       "      <th>fuel</th>\n",
       "      <th>make</th>\n",
       "      <th>duty</th>\n",
       "      <th>vehicles</th>\n",
       "    </tr>\n",
       "  </thead>\n",
       "  <tbody>\n",
       "    <tr>\n",
       "      <th>0</th>\n",
       "      <td>1/1/2020</td>\n",
       "      <td>90001</td>\n",
       "      <td>2007</td>\n",
       "      <td>Gasoline</td>\n",
       "      <td>ACURA</td>\n",
       "      <td>Light</td>\n",
       "      <td>15</td>\n",
       "    </tr>\n",
       "    <tr>\n",
       "      <th>1</th>\n",
       "      <td>1/1/2020</td>\n",
       "      <td>90002</td>\n",
       "      <td>2007</td>\n",
       "      <td>Gasoline</td>\n",
       "      <td>ACURA</td>\n",
       "      <td>Light</td>\n",
       "      <td>20</td>\n",
       "    </tr>\n",
       "    <tr>\n",
       "      <th>2</th>\n",
       "      <td>1/1/2020</td>\n",
       "      <td>90003</td>\n",
       "      <td>2007</td>\n",
       "      <td>Gasoline</td>\n",
       "      <td>ACURA</td>\n",
       "      <td>Light</td>\n",
       "      <td>29</td>\n",
       "    </tr>\n",
       "    <tr>\n",
       "      <th>3</th>\n",
       "      <td>1/1/2020</td>\n",
       "      <td>90004</td>\n",
       "      <td>2007</td>\n",
       "      <td>Gasoline</td>\n",
       "      <td>ACURA</td>\n",
       "      <td>Light</td>\n",
       "      <td>19</td>\n",
       "    </tr>\n",
       "    <tr>\n",
       "      <th>4</th>\n",
       "      <td>1/1/2020</td>\n",
       "      <td>90006</td>\n",
       "      <td>2007</td>\n",
       "      <td>Gasoline</td>\n",
       "      <td>ACURA</td>\n",
       "      <td>Light</td>\n",
       "      <td>15</td>\n",
       "    </tr>\n",
       "    <tr>\n",
       "      <th>...</th>\n",
       "      <td>...</td>\n",
       "      <td>...</td>\n",
       "      <td>...</td>\n",
       "      <td>...</td>\n",
       "      <td>...</td>\n",
       "      <td>...</td>\n",
       "      <td>...</td>\n",
       "    </tr>\n",
       "    <tr>\n",
       "      <th>515757</th>\n",
       "      <td>1/1/2020</td>\n",
       "      <td>OOS</td>\n",
       "      <td>Unk</td>\n",
       "      <td>Gasoline</td>\n",
       "      <td>Unk</td>\n",
       "      <td>Heavy</td>\n",
       "      <td>98</td>\n",
       "    </tr>\n",
       "    <tr>\n",
       "      <th>515758</th>\n",
       "      <td>1/1/2020</td>\n",
       "      <td>90012</td>\n",
       "      <td>Unk</td>\n",
       "      <td>Gasoline</td>\n",
       "      <td>Unk</td>\n",
       "      <td>Light</td>\n",
       "      <td>12</td>\n",
       "    </tr>\n",
       "    <tr>\n",
       "      <th>515759</th>\n",
       "      <td>1/1/2020</td>\n",
       "      <td>93065</td>\n",
       "      <td>Unk</td>\n",
       "      <td>Gasoline</td>\n",
       "      <td>Unk</td>\n",
       "      <td>Light</td>\n",
       "      <td>11</td>\n",
       "    </tr>\n",
       "    <tr>\n",
       "      <th>515760</th>\n",
       "      <td>1/1/2020</td>\n",
       "      <td>95762</td>\n",
       "      <td>Unk</td>\n",
       "      <td>Gasoline</td>\n",
       "      <td>Unk</td>\n",
       "      <td>Light</td>\n",
       "      <td>12</td>\n",
       "    </tr>\n",
       "    <tr>\n",
       "      <th>515761</th>\n",
       "      <td>1/1/2020</td>\n",
       "      <td>OOS</td>\n",
       "      <td>Unk</td>\n",
       "      <td>Gasoline</td>\n",
       "      <td>Unk</td>\n",
       "      <td>Light</td>\n",
       "      <td>52</td>\n",
       "    </tr>\n",
       "  </tbody>\n",
       "</table>\n",
       "<p>515762 rows × 7 columns</p>\n",
       "</div>"
      ],
      "text/plain": [
       "            date    zip model_year      fuel   make   duty  vehicles\n",
       "0       1/1/2020  90001       2007  Gasoline  ACURA  Light        15\n",
       "1       1/1/2020  90002       2007  Gasoline  ACURA  Light        20\n",
       "2       1/1/2020  90003       2007  Gasoline  ACURA  Light        29\n",
       "3       1/1/2020  90004       2007  Gasoline  ACURA  Light        19\n",
       "4       1/1/2020  90006       2007  Gasoline  ACURA  Light        15\n",
       "...          ...    ...        ...       ...    ...    ...       ...\n",
       "515757  1/1/2020    OOS        Unk  Gasoline    Unk  Heavy        98\n",
       "515758  1/1/2020  90012        Unk  Gasoline    Unk  Light        12\n",
       "515759  1/1/2020  93065        Unk  Gasoline    Unk  Light        11\n",
       "515760  1/1/2020  95762        Unk  Gasoline    Unk  Light        12\n",
       "515761  1/1/2020    OOS        Unk  Gasoline    Unk  Light        52\n",
       "\n",
       "[515762 rows x 7 columns]"
      ]
     },
     "execution_count": 22,
     "metadata": {},
     "output_type": "execute_result"
    }
   ],
   "source": [
    "cars"
   ]
  },
  {
   "cell_type": "code",
   "execution_count": 23,
   "id": "5fddb908-3d31-44fb-91b2-0618d110e9c1",
   "metadata": {},
   "outputs": [
    {
     "name": "stdout",
     "output_type": "stream",
     "text": [
      "<class 'pandas.core.frame.DataFrame'>\n",
      "RangeIndex: 515762 entries, 0 to 515761\n",
      "Data columns (total 7 columns):\n",
      " #   Column      Non-Null Count   Dtype \n",
      "---  ------      --------------   ----- \n",
      " 0   date        515762 non-null  object\n",
      " 1   zip         515762 non-null  object\n",
      " 2   model_year  515762 non-null  object\n",
      " 3   fuel        515762 non-null  object\n",
      " 4   make        515762 non-null  object\n",
      " 5   duty        515762 non-null  object\n",
      " 6   vehicles    515762 non-null  int64 \n",
      "dtypes: int64(1), object(6)\n",
      "memory usage: 27.5+ MB\n"
     ]
    }
   ],
   "source": [
    "cars.info()"
   ]
  },
  {
   "cell_type": "code",
   "execution_count": 25,
   "id": "b00bc5de-38bc-49db-8b37-fff442bc5685",
   "metadata": {},
   "outputs": [
    {
     "data": {
      "text/plain": [
       "0         90001\n",
       "1         90002\n",
       "2         90003\n",
       "3         90004\n",
       "4         90006\n",
       "          ...  \n",
       "515757      OOS\n",
       "515758    90012\n",
       "515759    93065\n",
       "515760    95762\n",
       "515761      OOS\n",
       "Name: zip, Length: 515762, dtype: object"
      ]
     },
     "execution_count": 25,
     "metadata": {},
     "output_type": "execute_result"
    }
   ],
   "source": [
    "cars['zip']"
   ]
  },
  {
   "cell_type": "code",
   "execution_count": 26,
   "id": "0b2a590a-e393-427a-999e-bf923475947a",
   "metadata": {},
   "outputs": [
    {
     "data": {
      "text/plain": [
       "0         Gasoline\n",
       "1         Gasoline\n",
       "2         Gasoline\n",
       "3         Gasoline\n",
       "4         Gasoline\n",
       "            ...   \n",
       "515757    Gasoline\n",
       "515758    Gasoline\n",
       "515759    Gasoline\n",
       "515760    Gasoline\n",
       "515761    Gasoline\n",
       "Name: fuel, Length: 515762, dtype: object"
      ]
     },
     "execution_count": 26,
     "metadata": {},
     "output_type": "execute_result"
    }
   ],
   "source": [
    "cars['fuel']"
   ]
  },
  {
   "cell_type": "code",
   "execution_count": null,
   "id": "1d4a4c21-c257-4018-956d-c480372a1bfa",
   "metadata": {},
   "outputs": [],
   "source": []
  }
 ],
 "metadata": {
  "kernelspec": {
   "display_name": "Python 3",
   "language": "python",
   "name": "python3"
  },
  "language_info": {
   "codemirror_mode": {
    "name": "ipython",
    "version": 3
   },
   "file_extension": ".py",
   "mimetype": "text/x-python",
   "name": "python",
   "nbconvert_exporter": "python",
   "pygments_lexer": "ipython3",
   "version": "3.8.8"
  }
 },
 "nbformat": 4,
 "nbformat_minor": 5
}
