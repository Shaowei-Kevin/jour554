{
 "cells": [
  {
   "cell_type": "markdown",
   "id": "1da81002-d14f-4a14-8737-46f235b47c28",
   "metadata": {},
   "source": [
    "# California Early Voting Statistics"
   ]
  },
  {
   "cell_type": "code",
   "execution_count": 1,
   "id": "c29b6dea-2bc5-41a4-a880-11111efd5851",
   "metadata": {},
   "outputs": [],
   "source": [
    "import pandas as pd\n",
    "import altair as alt"
   ]
  },
  {
   "cell_type": "code",
   "execution_count": 9,
   "id": "a24f821c-047c-4ecc-913a-388a9e372462",
   "metadata": {},
   "outputs": [],
   "source": [
    "url = \"https://electproject.github.io/Early-Vote-2020G/CA.html\""
   ]
  },
  {
   "cell_type": "code",
   "execution_count": 10,
   "id": "6b8dc1aa-7b08-4ca6-81a5-b89455218893",
   "metadata": {},
   "outputs": [],
   "source": [
    "vote = pd.read_html(url)[0]"
   ]
  },
  {
   "cell_type": "code",
   "execution_count": 11,
   "id": "f2915899-cff3-4e5e-ae29-d68dfe403676",
   "metadata": {},
   "outputs": [
    {
     "data": {
      "text/html": [
       "<div>\n",
       "<style scoped>\n",
       "    .dataframe tbody tr th:only-of-type {\n",
       "        vertical-align: middle;\n",
       "    }\n",
       "\n",
       "    .dataframe tbody tr th {\n",
       "        vertical-align: top;\n",
       "    }\n",
       "\n",
       "    .dataframe thead th {\n",
       "        text-align: right;\n",
       "    }\n",
       "</style>\n",
       "<table border=\"1\" class=\"dataframe\">\n",
       "  <thead>\n",
       "    <tr style=\"text-align: right;\">\n",
       "      <th></th>\n",
       "      <th>Party</th>\n",
       "      <th>Returned Ballots</th>\n",
       "      <th>Freq. Distribution</th>\n",
       "      <th>Requested Ballots</th>\n",
       "      <th>Return Rate</th>\n",
       "    </tr>\n",
       "  </thead>\n",
       "  <tbody>\n",
       "    <tr>\n",
       "      <th>0</th>\n",
       "      <td>Democrats</td>\n",
       "      <td>6157827</td>\n",
       "      <td>50.9</td>\n",
       "      <td>10170982</td>\n",
       "      <td>60.5</td>\n",
       "    </tr>\n",
       "    <tr>\n",
       "      <th>1</th>\n",
       "      <td>Republicans</td>\n",
       "      <td>2955528</td>\n",
       "      <td>24.4</td>\n",
       "      <td>5344082</td>\n",
       "      <td>55.3</td>\n",
       "    </tr>\n",
       "    <tr>\n",
       "      <th>2</th>\n",
       "      <td>No Party Affiliation/Minor</td>\n",
       "      <td>2977358</td>\n",
       "      <td>24.6</td>\n",
       "      <td>6527198</td>\n",
       "      <td>45.6</td>\n",
       "    </tr>\n",
       "    <tr>\n",
       "      <th>3</th>\n",
       "      <td>TOTAL</td>\n",
       "      <td>12090534</td>\n",
       "      <td>100.0</td>\n",
       "      <td>22042262</td>\n",
       "      <td>54.9</td>\n",
       "    </tr>\n",
       "  </tbody>\n",
       "</table>\n",
       "</div>"
      ],
      "text/plain": [
       "                        Party  Returned Ballots  Freq. Distribution  \\\n",
       "0                   Democrats           6157827                50.9   \n",
       "1                 Republicans           2955528                24.4   \n",
       "2  No Party Affiliation/Minor           2977358                24.6   \n",
       "3                       TOTAL          12090534               100.0   \n",
       "\n",
       "   Requested Ballots  Return Rate  \n",
       "0           10170982         60.5  \n",
       "1            5344082         55.3  \n",
       "2            6527198         45.6  \n",
       "3           22042262         54.9  "
      ]
     },
     "execution_count": 11,
     "metadata": {},
     "output_type": "execute_result"
    }
   ],
   "source": [
    "vote"
   ]
  },
  {
   "cell_type": "code",
   "execution_count": 12,
   "id": "a6ac1786-980a-4c82-982f-3cb689c96fec",
   "metadata": {},
   "outputs": [
    {
     "data": {
      "text/html": [
       "<div>\n",
       "<style scoped>\n",
       "    .dataframe tbody tr th:only-of-type {\n",
       "        vertical-align: middle;\n",
       "    }\n",
       "\n",
       "    .dataframe tbody tr th {\n",
       "        vertical-align: top;\n",
       "    }\n",
       "\n",
       "    .dataframe thead th {\n",
       "        text-align: right;\n",
       "    }\n",
       "</style>\n",
       "<table border=\"1\" class=\"dataframe\">\n",
       "  <thead>\n",
       "    <tr style=\"text-align: right;\">\n",
       "      <th></th>\n",
       "      <th>Party</th>\n",
       "      <th>Returned Ballots</th>\n",
       "      <th>Freq. Distribution</th>\n",
       "      <th>Requested Ballots</th>\n",
       "      <th>Return Rate</th>\n",
       "    </tr>\n",
       "  </thead>\n",
       "  <tbody>\n",
       "    <tr>\n",
       "      <th>0</th>\n",
       "      <td>Democrats</td>\n",
       "      <td>6157827</td>\n",
       "      <td>50.9</td>\n",
       "      <td>10170982</td>\n",
       "      <td>60.5</td>\n",
       "    </tr>\n",
       "    <tr>\n",
       "      <th>1</th>\n",
       "      <td>Republicans</td>\n",
       "      <td>2955528</td>\n",
       "      <td>24.4</td>\n",
       "      <td>5344082</td>\n",
       "      <td>55.3</td>\n",
       "    </tr>\n",
       "    <tr>\n",
       "      <th>2</th>\n",
       "      <td>No Party Affiliation/Minor</td>\n",
       "      <td>2977358</td>\n",
       "      <td>24.6</td>\n",
       "      <td>6527198</td>\n",
       "      <td>45.6</td>\n",
       "    </tr>\n",
       "    <tr>\n",
       "      <th>3</th>\n",
       "      <td>TOTAL</td>\n",
       "      <td>12090534</td>\n",
       "      <td>100.0</td>\n",
       "      <td>22042262</td>\n",
       "      <td>54.9</td>\n",
       "    </tr>\n",
       "  </tbody>\n",
       "</table>\n",
       "</div>"
      ],
      "text/plain": [
       "                        Party  Returned Ballots  Freq. Distribution  \\\n",
       "0                   Democrats           6157827                50.9   \n",
       "1                 Republicans           2955528                24.4   \n",
       "2  No Party Affiliation/Minor           2977358                24.6   \n",
       "3                       TOTAL          12090534               100.0   \n",
       "\n",
       "   Requested Ballots  Return Rate  \n",
       "0           10170982         60.5  \n",
       "1            5344082         55.3  \n",
       "2            6527198         45.6  \n",
       "3           22042262         54.9  "
      ]
     },
     "execution_count": 12,
     "metadata": {},
     "output_type": "execute_result"
    }
   ],
   "source": [
    "vote.head()"
   ]
  },
  {
   "cell_type": "code",
   "execution_count": 13,
   "id": "745f4bcc-f380-4e0b-aeb6-44670b1982a9",
   "metadata": {},
   "outputs": [
    {
     "data": {
      "text/html": [
       "<div>\n",
       "<style scoped>\n",
       "    .dataframe tbody tr th:only-of-type {\n",
       "        vertical-align: middle;\n",
       "    }\n",
       "\n",
       "    .dataframe tbody tr th {\n",
       "        vertical-align: top;\n",
       "    }\n",
       "\n",
       "    .dataframe thead th {\n",
       "        text-align: right;\n",
       "    }\n",
       "</style>\n",
       "<table border=\"1\" class=\"dataframe\">\n",
       "  <thead>\n",
       "    <tr style=\"text-align: right;\">\n",
       "      <th></th>\n",
       "      <th>Party</th>\n",
       "      <th>Returned Ballots</th>\n",
       "      <th>Freq. Distribution</th>\n",
       "      <th>Requested Ballots</th>\n",
       "      <th>Return Rate</th>\n",
       "    </tr>\n",
       "  </thead>\n",
       "  <tbody>\n",
       "    <tr>\n",
       "      <th>0</th>\n",
       "      <td>Democrats</td>\n",
       "      <td>6157827</td>\n",
       "      <td>50.9</td>\n",
       "      <td>10170982</td>\n",
       "      <td>60.5</td>\n",
       "    </tr>\n",
       "    <tr>\n",
       "      <th>1</th>\n",
       "      <td>Republicans</td>\n",
       "      <td>2955528</td>\n",
       "      <td>24.4</td>\n",
       "      <td>5344082</td>\n",
       "      <td>55.3</td>\n",
       "    </tr>\n",
       "    <tr>\n",
       "      <th>2</th>\n",
       "      <td>No Party Affiliation/Minor</td>\n",
       "      <td>2977358</td>\n",
       "      <td>24.6</td>\n",
       "      <td>6527198</td>\n",
       "      <td>45.6</td>\n",
       "    </tr>\n",
       "    <tr>\n",
       "      <th>3</th>\n",
       "      <td>TOTAL</td>\n",
       "      <td>12090534</td>\n",
       "      <td>100.0</td>\n",
       "      <td>22042262</td>\n",
       "      <td>54.9</td>\n",
       "    </tr>\n",
       "  </tbody>\n",
       "</table>\n",
       "</div>"
      ],
      "text/plain": [
       "                        Party  Returned Ballots  Freq. Distribution  \\\n",
       "0                   Democrats           6157827                50.9   \n",
       "1                 Republicans           2955528                24.4   \n",
       "2  No Party Affiliation/Minor           2977358                24.6   \n",
       "3                       TOTAL          12090534               100.0   \n",
       "\n",
       "   Requested Ballots  Return Rate  \n",
       "0           10170982         60.5  \n",
       "1            5344082         55.3  \n",
       "2            6527198         45.6  \n",
       "3           22042262         54.9  "
      ]
     },
     "execution_count": 13,
     "metadata": {},
     "output_type": "execute_result"
    }
   ],
   "source": [
    "vote.tail()"
   ]
  },
  {
   "cell_type": "code",
   "execution_count": 14,
   "id": "fb44774d-ade7-46e1-a48f-62fcc3b04830",
   "metadata": {},
   "outputs": [],
   "source": [
    "vote.to_csv('vote.csv', index=False)"
   ]
  },
  {
   "cell_type": "code",
   "execution_count": null,
   "id": "1d57ca73-e1ad-439d-a16f-b0aa78bdec58",
   "metadata": {},
   "outputs": [],
   "source": []
  }
 ],
 "metadata": {
  "kernelspec": {
   "display_name": "Python 3",
   "language": "python",
   "name": "python3"
  },
  "language_info": {
   "codemirror_mode": {
    "name": "ipython",
    "version": 3
   },
   "file_extension": ".py",
   "mimetype": "text/x-python",
   "name": "python",
   "nbconvert_exporter": "python",
   "pygments_lexer": "ipython3",
   "version": "3.8.8"
  }
 },
 "nbformat": 4,
 "nbformat_minor": 5
}
